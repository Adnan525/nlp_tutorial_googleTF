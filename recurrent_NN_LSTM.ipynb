{
 "cells": [
  {
   "cell_type": "code",
   "execution_count": 2,
   "id": "1af0a4ce-ab83-4a07-bbe2-fa7a27d7f562",
   "metadata": {},
   "outputs": [],
   "source": [
    "# regression or classification models - f(data, labels) = pattern\n",
    "# recurrent neural network - input values get passed to neuron which generates an output and a feed forward value for the next function call\n",
    "# like a recursive call\n",
    "# for nlp text generating, we dont just want to predict based on the most adjacent words but words at the beginning can have larger impact as well\n",
    "# Example : I live in Ireland, that's why in school they teach us __Gaelic__ - LSTM\n",
    "# go beyond the very short term memomry of RNN"
   ]
  },
  {
   "cell_type": "code",
   "execution_count": 3,
   "id": "c9f23884-1fdd-4266-b1cf-3639747652c0",
   "metadata": {},
   "outputs": [
    {
     "name": "stderr",
     "output_type": "stream",
     "text": [
      "2024-02-22 18:00:28.678370: I external/local_tsl/tsl/cuda/cudart_stub.cc:31] Could not find cuda drivers on your machine, GPU will not be used.\n",
      "2024-02-22 18:00:30.964700: E external/local_xla/xla/stream_executor/cuda/cuda_dnn.cc:9261] Unable to register cuDNN factory: Attempting to register factory for plugin cuDNN when one has already been registered\n",
      "2024-02-22 18:00:30.964797: E external/local_xla/xla/stream_executor/cuda/cuda_fft.cc:607] Unable to register cuFFT factory: Attempting to register factory for plugin cuFFT when one has already been registered\n",
      "2024-02-22 18:00:31.335751: E external/local_xla/xla/stream_executor/cuda/cuda_blas.cc:1515] Unable to register cuBLAS factory: Attempting to register factory for plugin cuBLAS when one has already been registered\n",
      "2024-02-22 18:00:32.070576: I external/local_tsl/tsl/cuda/cudart_stub.cc:31] Could not find cuda drivers on your machine, GPU will not be used.\n",
      "2024-02-22 18:00:32.071867: I tensorflow/core/platform/cpu_feature_guard.cc:182] This TensorFlow binary is optimized to use available CPU instructions in performance-critical operations.\n",
      "To enable the following instructions: AVX2 FMA, in other operations, rebuild TensorFlow with the appropriate compiler flags.\n",
      "2024-02-22 18:00:35.511938: W tensorflow/compiler/tf2tensorrt/utils/py_utils.cc:38] TF-TRT Warning: Could not find TensorRT\n"
     ]
    }
   ],
   "source": [
    "import tensorflow as tf\n",
    "\n",
    "from tensorflow.keras.preprocessing.sequence import pad_sequences\n",
    "from tensorflow.keras.layers import Embedding, LSTM, Dense, Bidirectional\n",
    "from tensorflow.keras.preprocessing.text import Tokenizer\n",
    "from tensorflow.keras.models import Sequential\n",
    "from tensorflow.keras.optimizers import Adam\n",
    "import numpy as np"
   ]
  },
  {
   "cell_type": "code",
   "execution_count": 4,
   "id": "a69c1251-3531-4953-9fdd-c77c0c4419d8",
   "metadata": {},
   "outputs": [
    {
     "name": "stdout",
     "output_type": "stream",
     "text": [
      "--2024-02-22 18:02:12--  https://storage.googleapis.com/learning-datasets/irish-lyrics-eof.txt\n",
      "Resolving storage.googleapis.com (storage.googleapis.com)... 172.217.24.59, 2404:6800:4006:804::201b\n",
      "Connecting to storage.googleapis.com (storage.googleapis.com)|172.217.24.59|:443... connected.\n",
      "HTTP request sent, awaiting response... 200 OK\n",
      "Length: 68970 (67K) [text/plain]\n",
      "Saving to: ‘/tmp/irish-lyrics-eof.txt’\n",
      "\n",
      "/tmp/irish-lyrics-e 100%[===================>]  67.35K  --.-KB/s    in 0.1s    \n",
      "\n",
      "2024-02-22 18:02:13 (488 KB/s) - ‘/tmp/irish-lyrics-eof.txt’ saved [68970/68970]\n",
      "\n"
     ]
    }
   ],
   "source": [
    "!wget --no-check-certificate \\\n",
    "    https://storage.googleapis.com/learning-datasets/irish-lyrics-eof.txt \\\n",
    "    -O /tmp/irish-lyrics-eof.txt"
   ]
  },
  {
   "cell_type": "code",
   "execution_count": 6,
   "id": "a17402a0-f5fd-4e88-8b09-f5ae84908615",
   "metadata": {},
   "outputs": [],
   "source": [
    "tokenizer = Tokenizer()\n",
    "\n",
    "data = open('/tmp/irish-lyrics-eof.txt').read()"
   ]
  },
  {
   "cell_type": "code",
   "execution_count": 9,
   "id": "167583b2-3440-45a4-ac46-3bca7a9937e5",
   "metadata": {},
   "outputs": [
    {
     "name": "stdout",
     "output_type": "stream",
     "text": [
      "2690\n"
     ]
    }
   ],
   "source": [
    "corpus = data.lower().split(\"\\n\")\n",
    "\n",
    "tokenizer.fit_on_texts(corpus)\n",
    "# we will use the whole dataset to train so no OOV required\n",
    "# adding 1 extra word for padding value\n",
    "total_words = len(tokenizer.word_index) + 1\n",
    "print(total_words)"
   ]
  },
  {
   "cell_type": "code",
   "execution_count": 32,
   "id": "d5edb062-a283-4eb4-8537-173231067222",
   "metadata": {},
   "outputs": [],
   "source": [
    "# input_sequences = []\n",
    "# for line in corpus:\n",
    "#     token_list = tokenizer.texts_to_sequences([line])[0]\n",
    "#     print(token_list)\n",
    "#     break;"
   ]
  },
  {
   "cell_type": "code",
   "execution_count": 33,
   "id": "2c0032e2-255a-4fa1-a9a6-b1c4f109d2b4",
   "metadata": {},
   "outputs": [],
   "source": [
    "input_sequences = []\n",
    "for line in corpus:\n",
    "\ttoken_list = tokenizer.texts_to_sequences([line])[0] # beacuse texts_to_sequence returns [[]]\n",
    "\tfor i in range(1, len(token_list)):\n",
    "\t\tn_gram_sequence = token_list[:i+1]\n",
    "\t\tinput_sequences.append(n_gram_sequence)"
   ]
  },
  {
   "cell_type": "code",
   "execution_count": 37,
   "id": "7de6b202-65aa-41f4-888a-28665a27e4c0",
   "metadata": {},
   "outputs": [
    {
     "data": {
      "text/plain": [
       "[[51, 12],\n",
       " [51, 12, 96],\n",
       " [51, 12, 96, 1217],\n",
       " [51, 12, 96, 1217, 48],\n",
       " [51, 12, 96, 1217, 48, 2],\n",
       " [51, 12, 96, 1217, 48, 2, 69],\n",
       " [2, 11]]"
      ]
     },
     "execution_count": 37,
     "metadata": {},
     "output_type": "execute_result"
    }
   ],
   "source": [
    "input_sequences[0:7]"
   ]
  },
  {
   "cell_type": "code",
   "execution_count": 38,
   "id": "6f93cdc3-4036-451d-adda-73be173958dd",
   "metadata": {},
   "outputs": [],
   "source": [
    "# padding\n",
    "max_sequence_len = max([len(x) for x in input_sequences])\n",
    "input_sequences = np.array(pad_sequences(input_sequences, maxlen=max_sequence_len, padding='pre'))"
   ]
  },
  {
   "cell_type": "code",
   "execution_count": 40,
   "id": "91a5495f-8a70-4087-8df6-5e0d29191084",
   "metadata": {},
   "outputs": [],
   "source": [
    "X = input_sequences[:,:-1]\n",
    "labels = input_sequences[:,-1]"
   ]
  },
  {
   "cell_type": "code",
   "execution_count": 41,
   "id": "1e1423c6-ee06-4177-9d22-f7078e30aee1",
   "metadata": {},
   "outputs": [],
   "source": [
    "y = tf.keras.utils.to_categorical(labels, num_classes=total_words) # one hot encoding"
   ]
  },
  {
   "cell_type": "code",
   "execution_count": 44,
   "id": "90c9e2de-c6eb-48de-98b2-8ff889a981bd",
   "metadata": {},
   "outputs": [
    {
     "name": "stdout",
     "output_type": "stream",
     "text": [
      "8\n"
     ]
    }
   ],
   "source": [
    "print(tokenizer.word_index['in'])"
   ]
  },
  {
   "cell_type": "code",
   "execution_count": 47,
   "id": "aaf2ccf9-f4f4-4728-84df-2cb4a98992db",
   "metadata": {},
   "outputs": [
    {
     "name": "stderr",
     "output_type": "stream",
     "text": [
      "WARNING:absl:`lr` is deprecated in Keras optimizer, please use `learning_rate` or use the legacy optimizer, e.g.,tf.keras.optimizers.legacy.Adam.\n"
     ]
    },
    {
     "name": "stdout",
     "output_type": "stream",
     "text": [
      "Model: \"sequential_1\"\n",
      "_________________________________________________________________\n",
      " Layer (type)                Output Shape              Param #   \n",
      "=================================================================\n",
      " embedding_1 (Embedding)     (None, 15, 100)           269000    \n",
      "                                                                 \n",
      " bidirectional_1 (Bidirecti  (None, 300)               301200    \n",
      " onal)                                                           \n",
      "                                                                 \n",
      " dense_1 (Dense)             (None, 2690)              809690    \n",
      "                                                                 \n",
      "=================================================================\n",
      "Total params: 1379890 (5.26 MB)\n",
      "Trainable params: 1379890 (5.26 MB)\n",
      "Non-trainable params: 0 (0.00 Byte)\n",
      "_________________________________________________________________\n"
     ]
    }
   ],
   "source": [
    "# model\n",
    "model = Sequential()\n",
    "model.add(Embedding(total_words, 100, input_length=max_sequence_len-1)) #input_length 1 less because final value is y\n",
    "model.add(Bidirectional(LSTM(150)))\n",
    "model.add(Dense(total_words, activation='softmax'))\n",
    "adam = Adam(lr=0.01)\n",
    "model.compile(loss='categorical_crossentropy', optimizer=adam, metrics=['accuracy'])\n",
    "#earlystop = EarlyStopping(monitor='val_loss', min_delta=0, patience=5, verbose=0, mode='auto')\n",
    "model.summary()"
   ]
  },
  {
   "cell_type": "code",
   "execution_count": 48,
   "id": "ca5b55b1-7230-4ffe-834c-05adb790540f",
   "metadata": {},
   "outputs": [
    {
     "name": "stdout",
     "output_type": "stream",
     "text": [
      "Epoch 1/50\n"
     ]
    },
    {
     "name": "stderr",
     "output_type": "stream",
     "text": [
      "2024-02-22 18:44:18.747358: W external/local_tsl/tsl/framework/cpu_allocator_impl.cc:83] Allocation of 129528880 exceeds 10% of free system memory.\n"
     ]
    },
    {
     "name": "stdout",
     "output_type": "stream",
     "text": [
      "377/377 [==============================] - 15s 33ms/step - loss: 6.7441 - accuracy: 0.0638\n",
      "Epoch 2/50\n",
      "377/377 [==============================] - 12s 33ms/step - loss: 6.2252 - accuracy: 0.0766\n",
      "Epoch 3/50\n",
      "377/377 [==============================] - 12s 33ms/step - loss: 5.9524 - accuracy: 0.0850\n",
      "Epoch 4/50\n",
      "377/377 [==============================] - 13s 33ms/step - loss: 5.6571 - accuracy: 0.0958\n",
      "Epoch 5/50\n",
      "377/377 [==============================] - 13s 33ms/step - loss: 5.3182 - accuracy: 0.1146\n",
      "Epoch 6/50\n",
      "377/377 [==============================] - 13s 33ms/step - loss: 4.9388 - accuracy: 0.1340\n",
      "Epoch 7/50\n",
      "377/377 [==============================] - 12s 33ms/step - loss: 4.5594 - accuracy: 0.1593\n",
      "Epoch 8/50\n",
      "377/377 [==============================] - 12s 33ms/step - loss: 4.2006 - accuracy: 0.1833\n",
      "Epoch 9/50\n",
      "377/377 [==============================] - 13s 33ms/step - loss: 3.8443 - accuracy: 0.2250\n",
      "Epoch 10/50\n",
      "377/377 [==============================] - 12s 33ms/step - loss: 3.5098 - accuracy: 0.2731\n",
      "Epoch 11/50\n",
      "377/377 [==============================] - 13s 33ms/step - loss: 3.1904 - accuracy: 0.3279\n",
      "Epoch 12/50\n",
      "377/377 [==============================] - 12s 33ms/step - loss: 2.9043 - accuracy: 0.3815\n",
      "Epoch 13/50\n",
      "377/377 [==============================] - 12s 32ms/step - loss: 2.6376 - accuracy: 0.4360\n",
      "Epoch 14/50\n",
      "377/377 [==============================] - 13s 33ms/step - loss: 2.3978 - accuracy: 0.4852\n",
      "Epoch 15/50\n",
      "377/377 [==============================] - 13s 33ms/step - loss: 2.1852 - accuracy: 0.5292\n",
      "Epoch 16/50\n",
      "377/377 [==============================] - 12s 33ms/step - loss: 1.9864 - accuracy: 0.5724\n",
      "Epoch 17/50\n",
      "377/377 [==============================] - 12s 33ms/step - loss: 1.8160 - accuracy: 0.6067\n",
      "Epoch 18/50\n",
      "377/377 [==============================] - 12s 33ms/step - loss: 1.6694 - accuracy: 0.6455\n",
      "Epoch 19/50\n",
      "377/377 [==============================] - 13s 34ms/step - loss: 1.5228 - accuracy: 0.6730\n",
      "Epoch 20/50\n",
      "377/377 [==============================] - 13s 34ms/step - loss: 1.4022 - accuracy: 0.6973\n",
      "Epoch 21/50\n",
      "377/377 [==============================] - 12s 33ms/step - loss: 1.2962 - accuracy: 0.7269\n",
      "Epoch 22/50\n",
      "377/377 [==============================] - 12s 33ms/step - loss: 1.1917 - accuracy: 0.7461\n",
      "Epoch 23/50\n",
      "377/377 [==============================] - 13s 33ms/step - loss: 1.1095 - accuracy: 0.7630\n",
      "Epoch 24/50\n",
      "377/377 [==============================] - 13s 33ms/step - loss: 1.0315 - accuracy: 0.7808\n",
      "Epoch 25/50\n",
      "377/377 [==============================] - 13s 34ms/step - loss: 0.9651 - accuracy: 0.7944\n",
      "Epoch 26/50\n",
      "377/377 [==============================] - 12s 33ms/step - loss: 0.9032 - accuracy: 0.8041\n",
      "Epoch 27/50\n",
      "377/377 [==============================] - 12s 33ms/step - loss: 0.8523 - accuracy: 0.8134\n",
      "Epoch 28/50\n",
      "377/377 [==============================] - 13s 33ms/step - loss: 0.8043 - accuracy: 0.8221\n",
      "Epoch 29/50\n",
      "377/377 [==============================] - 12s 33ms/step - loss: 0.7675 - accuracy: 0.8276\n",
      "Epoch 30/50\n",
      "377/377 [==============================] - 13s 33ms/step - loss: 0.7453 - accuracy: 0.8316\n",
      "Epoch 31/50\n",
      "377/377 [==============================] - 12s 33ms/step - loss: 0.7150 - accuracy: 0.8355\n",
      "Epoch 32/50\n",
      "377/377 [==============================] - 12s 33ms/step - loss: 0.6959 - accuracy: 0.8388\n",
      "Epoch 33/50\n",
      "377/377 [==============================] - 12s 33ms/step - loss: 0.6706 - accuracy: 0.8392\n",
      "Epoch 34/50\n",
      "377/377 [==============================] - 12s 33ms/step - loss: 0.6575 - accuracy: 0.8419\n",
      "Epoch 35/50\n",
      "377/377 [==============================] - 13s 34ms/step - loss: 0.6375 - accuracy: 0.8471\n",
      "Epoch 36/50\n",
      "377/377 [==============================] - 12s 33ms/step - loss: 0.6243 - accuracy: 0.8489\n",
      "Epoch 37/50\n",
      "377/377 [==============================] - 12s 33ms/step - loss: 0.6080 - accuracy: 0.8472\n",
      "Epoch 38/50\n",
      "377/377 [==============================] - 12s 33ms/step - loss: 0.5957 - accuracy: 0.8493\n",
      "Epoch 39/50\n",
      "377/377 [==============================] - 13s 33ms/step - loss: 0.5907 - accuracy: 0.8475\n",
      "Epoch 40/50\n",
      "377/377 [==============================] - 13s 33ms/step - loss: 0.5878 - accuracy: 0.8490\n",
      "Epoch 41/50\n",
      "377/377 [==============================] - 12s 33ms/step - loss: 0.5781 - accuracy: 0.8501\n",
      "Epoch 42/50\n",
      "377/377 [==============================] - 13s 33ms/step - loss: 0.5701 - accuracy: 0.8489\n",
      "Epoch 43/50\n",
      "377/377 [==============================] - 13s 33ms/step - loss: 0.5666 - accuracy: 0.8491\n",
      "Epoch 44/50\n",
      "377/377 [==============================] - 13s 34ms/step - loss: 0.5687 - accuracy: 0.8500\n",
      "Epoch 45/50\n",
      "377/377 [==============================] - 13s 33ms/step - loss: 0.5591 - accuracy: 0.8484\n",
      "Epoch 46/50\n",
      "377/377 [==============================] - 12s 33ms/step - loss: 0.5527 - accuracy: 0.8486\n",
      "Epoch 47/50\n",
      "377/377 [==============================] - 12s 33ms/step - loss: 0.5517 - accuracy: 0.8505\n",
      "Epoch 48/50\n",
      "377/377 [==============================] - 12s 33ms/step - loss: 0.5531 - accuracy: 0.8500\n",
      "Epoch 49/50\n",
      "377/377 [==============================] - 13s 33ms/step - loss: 0.5426 - accuracy: 0.8512\n",
      "Epoch 50/50\n",
      "377/377 [==============================] - 12s 33ms/step - loss: 0.5370 - accuracy: 0.8519\n"
     ]
    }
   ],
   "source": [
    "history = model.fit(X, y, epochs=50, verbose=1)"
   ]
  },
  {
   "cell_type": "code",
   "execution_count": 49,
   "id": "198566e5-2b97-4da9-82b1-3df536063adf",
   "metadata": {},
   "outputs": [
    {
     "data": {
      "image/png": "[encoded data removed]",
      "text/plain": [
       "<Figure size 640x480 with 1 Axes>"
      ]
     },
     "metadata": {},
     "output_type": "display_data"
    }
   ],
   "source": [
    "import matplotlib.pyplot as plt\n",
    "\n",
    "\n",
    "def plot_graphs(history, string):\n",
    "  plt.plot(history.history[string])\n",
    "  plt.xlabel(\"Epochs\")\n",
    "  plt.ylabel(string)\n",
    "  plt.show()\n",
    "plot_graphs(history, 'accuracy')"
   ]
  },
  {
   "cell_type": "code",
   "execution_count": 50,
   "id": "6a62299b-c1f5-43fb-b252-d9608b15ba6e",
   "metadata": {},
   "outputs": [
    {
     "name": "stdout",
     "output_type": "stream",
     "text": [
      "1/1 [==============================] - 0s 476ms/step\n",
      "1/1 [==============================] - 0s 15ms/step\n",
      "1/1 [==============================] - 0s 15ms/step\n",
      "1/1 [==============================] - 0s 14ms/step\n",
      "1/1 [==============================] - 0s 14ms/step\n",
      "1/1 [==============================] - 0s 14ms/step\n",
      "1/1 [==============================] - 0s 15ms/step\n",
      "1/1 [==============================] - 0s 15ms/step\n",
      "1/1 [==============================] - 0s 14ms/step\n",
      "1/1 [==============================] - 0s 14ms/step\n",
      "1/1 [==============================] - 0s 14ms/step\n",
      "1/1 [==============================] - 0s 15ms/step\n",
      "1/1 [==============================] - 0s 14ms/step\n",
      "1/1 [==============================] - 0s 14ms/step\n",
      "1/1 [==============================] - 0s 14ms/step\n",
      "1/1 [==============================] - 0s 17ms/step\n",
      "1/1 [==============================] - 0s 15ms/step\n",
      "1/1 [==============================] - 0s 15ms/step\n",
      "1/1 [==============================] - 0s 22ms/step\n",
      "1/1 [==============================] - 0s 14ms/step\n",
      "1/1 [==============================] - 0s 14ms/step\n",
      "1/1 [==============================] - 0s 15ms/step\n",
      "1/1 [==============================] - 0s 14ms/step\n",
      "1/1 [==============================] - 0s 14ms/step\n",
      "1/1 [==============================] - 0s 15ms/step\n",
      "1/1 [==============================] - 0s 14ms/step\n",
      "1/1 [==============================] - 0s 14ms/step\n",
      "1/1 [==============================] - 0s 14ms/step\n",
      "1/1 [==============================] - 0s 16ms/step\n",
      "1/1 [==============================] - 0s 19ms/step\n",
      "1/1 [==============================] - 0s 15ms/step\n",
      "1/1 [==============================] - 0s 14ms/step\n",
      "1/1 [==============================] - 0s 14ms/step\n",
      "1/1 [==============================] - 0s 15ms/step\n",
      "1/1 [==============================] - 0s 15ms/step\n",
      "1/1 [==============================] - 0s 14ms/step\n",
      "1/1 [==============================] - 0s 14ms/step\n",
      "1/1 [==============================] - 0s 16ms/step\n",
      "1/1 [==============================] - 0s 15ms/step\n",
      "1/1 [==============================] - 0s 14ms/step\n",
      "1/1 [==============================] - 0s 23ms/step\n",
      "1/1 [==============================] - 0s 29ms/step\n",
      "1/1 [==============================] - 0s 24ms/step\n",
      "1/1 [==============================] - 0s 26ms/step\n",
      "1/1 [==============================] - 0s 14ms/step\n",
      "1/1 [==============================] - 0s 15ms/step\n",
      "1/1 [==============================] - 0s 15ms/step\n",
      "1/1 [==============================] - 0s 14ms/step\n",
      "1/1 [==============================] - 0s 15ms/step\n",
      "1/1 [==============================] - 0s 15ms/step\n",
      "1/1 [==============================] - 0s 14ms/step\n",
      "1/1 [==============================] - 0s 14ms/step\n",
      "1/1 [==============================] - 0s 14ms/step\n",
      "1/1 [==============================] - 0s 15ms/step\n",
      "1/1 [==============================] - 0s 14ms/step\n",
      "1/1 [==============================] - 0s 15ms/step\n",
      "1/1 [==============================] - 0s 14ms/step\n",
      "1/1 [==============================] - 0s 15ms/step\n",
      "1/1 [==============================] - 0s 15ms/step\n",
      "1/1 [==============================] - 0s 15ms/step\n",
      "1/1 [==============================] - 0s 14ms/step\n",
      "1/1 [==============================] - 0s 15ms/step\n",
      "1/1 [==============================] - 0s 15ms/step\n",
      "1/1 [==============================] - 0s 15ms/step\n",
      "1/1 [==============================] - 0s 14ms/step\n",
      "1/1 [==============================] - 0s 15ms/step\n",
      "1/1 [==============================] - 0s 14ms/step\n",
      "1/1 [==============================] - 0s 14ms/step\n",
      "1/1 [==============================] - 0s 15ms/step\n",
      "1/1 [==============================] - 0s 15ms/step\n",
      "1/1 [==============================] - 0s 15ms/step\n",
      "1/1 [==============================] - 0s 14ms/step\n",
      "1/1 [==============================] - 0s 15ms/step\n",
      "1/1 [==============================] - 0s 15ms/step\n",
      "1/1 [==============================] - 0s 14ms/step\n",
      "1/1 [==============================] - 0s 14ms/step\n",
      "1/1 [==============================] - 0s 14ms/step\n",
      "1/1 [==============================] - 0s 14ms/step\n",
      "1/1 [==============================] - 0s 14ms/step\n",
      "1/1 [==============================] - 0s 15ms/step\n",
      "1/1 [==============================] - 0s 15ms/step\n",
      "1/1 [==============================] - 0s 15ms/step\n",
      "1/1 [==============================] - 0s 14ms/step\n",
      "1/1 [==============================] - 0s 15ms/step\n",
      "1/1 [==============================] - 0s 14ms/step\n",
      "1/1 [==============================] - 0s 14ms/step\n",
      "1/1 [==============================] - 0s 15ms/step\n",
      "1/1 [==============================] - 0s 15ms/step\n",
      "1/1 [==============================] - 0s 14ms/step\n",
      "1/1 [==============================] - 0s 14ms/step\n",
      "1/1 [==============================] - 0s 16ms/step\n",
      "1/1 [==============================] - 0s 15ms/step\n",
      "1/1 [==============================] - 0s 15ms/step\n",
      "1/1 [==============================] - 0s 15ms/step\n",
      "1/1 [==============================] - 0s 14ms/step\n",
      "1/1 [==============================] - 0s 14ms/step\n",
      "1/1 [==============================] - 0s 14ms/step\n",
      "1/1 [==============================] - 0s 14ms/step\n",
      "1/1 [==============================] - 0s 14ms/step\n",
      "1/1 [==============================] - 0s 14ms/step\n",
      "I've got a bad feeling about this water o sit and sport and play the sod ones turning grey tell to the fray all theres no new way and you father oflynn well she as fair of all by the name of day went i courted her in killarney when he died of my passage the sea may be rough down to the sea are treads the thorn of killarney no more more are he say you mind it was my love forever enough to her gear they died of my arms boy to your fair eyes are fair are your covers buttoned down down the sea\n"
     ]
    }
   ],
   "source": [
    "seed_text = \"I've got a bad feeling about this\"\n",
    "next_words = 100\n",
    "  \n",
    "for _ in range(next_words):\n",
    "\ttoken_list = tokenizer.texts_to_sequences([seed_text])[0]\n",
    "\ttoken_list = pad_sequences([token_list], maxlen=max_sequence_len-1, padding='pre')\n",
    "\tpredicted = np.argmax(model.predict(token_list), axis=-1)\n",
    "\toutput_word = \"\"\n",
    "\tfor word, index in tokenizer.word_index.items():\n",
    "\t\tif index == predicted:\n",
    "\t\t\toutput_word = word\n",
    "\t\t\tbreak\n",
    "\tseed_text += \" \" + output_word\n",
    "print(seed_text)"
   ]
  }
 ],
 "metadata": {
  "kernelspec": {
   "display_name": "Python 3 (ipykernel)",
   "language": "python",
   "name": "python3"
  },
  "language_info": {
   "codemirror_mode": {
    "name": "ipython",
    "version": 3
   },
   "file_extension": ".py",
   "mimetype": "text/x-python",
   "name": "python",
   "nbconvert_exporter": "python",
   "pygments_lexer": "ipython3",
   "version": "3.10.13"
  }
 },
 "nbformat": 4,
 "nbformat_minor": 5
}
