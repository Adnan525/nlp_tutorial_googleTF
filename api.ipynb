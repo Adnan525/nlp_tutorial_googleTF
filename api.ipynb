{
 "cells": [
  {
   "cell_type": "code",
   "execution_count": 1,
   "id": "950d7031-24de-4232-8884-c86d01fe6ddf",
   "metadata": {},
   "outputs": [
    {
     "name": "stderr",
     "output_type": "stream",
     "text": [
      "2024-02-25 11:50:08.580390: I external/local_tsl/tsl/cuda/cudart_stub.cc:31] Could not find cuda drivers on your machine, GPU will not be used.\n",
      "2024-02-25 11:50:08.615964: E external/local_xla/xla/stream_executor/cuda/cuda_dnn.cc:9261] Unable to register cuDNN factory: Attempting to register factory for plugin cuDNN when one has already been registered\n",
      "2024-02-25 11:50:08.616017: E external/local_xla/xla/stream_executor/cuda/cuda_fft.cc:607] Unable to register cuFFT factory: Attempting to register factory for plugin cuFFT when one has already been registered\n",
      "2024-02-25 11:50:08.617183: E external/local_xla/xla/stream_executor/cuda/cuda_blas.cc:1515] Unable to register cuBLAS factory: Attempting to register factory for plugin cuBLAS when one has already been registered\n",
      "2024-02-25 11:50:08.623242: I external/local_tsl/tsl/cuda/cudart_stub.cc:31] Could not find cuda drivers on your machine, GPU will not be used.\n",
      "2024-02-25 11:50:08.624218: I tensorflow/core/platform/cpu_feature_guard.cc:182] This TensorFlow binary is optimized to use available CPU instructions in performance-critical operations.\n",
      "To enable the following instructions: AVX2 FMA, in other operations, rebuild TensorFlow with the appropriate compiler flags.\n",
      "2024-02-25 11:50:09.648829: W tensorflow/compiler/tf2tensorrt/utils/py_utils.cc:38] TF-TRT Warning: Could not find TensorRT\n"
     ]
    }
   ],
   "source": [
    "# load sarcasm detection model\n",
    "from tensorflow.keras.models import load_model\n",
    "\n",
    "sarcasm_model = load_model(\"sarcasm_detection.h5\")\n"
   ]
  },
  {
   "cell_type": "code",
   "execution_count": 3,
   "id": "7c1a763c-edda-4776-a391-d605fb580a40",
   "metadata": {},
   "outputs": [
    {
     "name": "stdout",
     "output_type": "stream",
     "text": [
      "Collecting keras_preprocessing\n",
      "  Downloading Keras_Preprocessing-1.1.2-py2.py3-none-any.whl (42 kB)\n",
      "\u001b[2K     \u001b[90m━━━━━━━━━━━━━━━━━━━━━━━━━━━━━━━━━━━━━━━━\u001b[0m \u001b[32m42.6/42.6 kB\u001b[0m \u001b[31m1.1 MB/s\u001b[0m eta \u001b[36m0:00:00\u001b[0m\n",
      "\u001b[?25hRequirement already satisfied: numpy>=1.9.1 in /home/codespace/.local/lib/python3.10/site-packages (from keras_preprocessing) (1.26.4)\n",
      "Requirement already satisfied: six>=1.9.0 in /home/codespace/.local/lib/python3.10/site-packages (from keras_preprocessing) (1.16.0)\n",
      "Installing collected packages: keras_preprocessing\n",
      "Successfully installed keras_preprocessing-1.1.2\n"
     ]
    }
   ],
   "source": [
    "!pip install keras_preprocessing"
   ]
  },
  {
   "cell_type": "code",
   "execution_count": 8,
   "id": "d7bba78d-bb90-4122-ba93-759957490816",
   "metadata": {},
   "outputs": [],
   "source": [
    "# load the tokenizer for custom text\n",
    "import json\n",
    "from keras_preprocessing.text import tokenizer_from_json\n",
    "from tensorflow.keras.preprocessing.sequence import pad_sequences\n",
    "\n",
    "with open('tokenizer.json') as json_file:\n",
    "    tokenizer_json = json.load(json_file)\n",
    "    tokenizer = tokenizer_from_json(tokenizer_json)"
   ]
  },
  {
   "cell_type": "code",
   "execution_count": 9,
   "id": "162b6ccf-22b2-439c-bdfa-bf37330e63e5",
   "metadata": {},
   "outputs": [
    {
     "data": {
      "text/plain": [
       "24791"
      ]
     },
     "execution_count": 9,
     "metadata": {},
     "output_type": "execute_result"
    }
   ],
   "source": [
    "len(tokenizer.word_index)"
   ]
  },
  {
   "cell_type": "code",
   "execution_count": 10,
   "id": "6ab02580-0a26-4fb0-9923-1f13cca8f02a",
   "metadata": {},
   "outputs": [],
   "source": [
    "# test string for sarcasm detection\n",
    "test_string = tokenizer.texts_to_sequences([\"Oh really! how did you figure that out?\"])\n",
    "test_string_padded = pad_sequences(test_string, padding  = \"post\", maxlen = 40) # maxlen from train data"
   ]
  },
  {
   "cell_type": "code",
   "execution_count": 12,
   "id": "fe024fbb-686b-4f7f-b6f5-cdc55bac9991",
   "metadata": {},
   "outputs": [
    {
     "data": {
      "text/plain": [
       "array([[3965,  117,   26,  483,   18, 1517,   25,   24,    0,    0,    0,\n",
       "           0,    0,    0,    0,    0,    0,    0,    0,    0,    0,    0,\n",
       "           0,    0,    0,    0,    0,    0,    0,    0,    0,    0,    0,\n",
       "           0,    0,    0,    0,    0,    0,    0]], dtype=int32)"
      ]
     },
     "execution_count": 12,
     "metadata": {},
     "output_type": "execute_result"
    }
   ],
   "source": [
    "test_string_padded"
   ]
  },
  {
   "cell_type": "code",
   "execution_count": 14,
   "id": "995b5f64-0743-499a-9294-f6ffc3fb8e2c",
   "metadata": {},
   "outputs": [],
   "source": [
    "def convert_to_binary(y_pred, threshold=0.5):\n",
    "    \"\"\"\n",
    "    Convert continuous predictions to binary using a threshold.\n",
    "\n",
    "    Args:\n",
    "    - y_pred (array-like): Continuous predictions.\n",
    "    - threshold (float): Threshold value for classification.\n",
    "\n",
    "    Returns:\n",
    "    - Binary predictions (array-like).\n",
    "    \"\"\"\n",
    "    return [1 if pred >= threshold else 0 for pred in y_pred]"
   ]
  },
  {
   "cell_type": "code",
   "execution_count": 16,
   "id": "98a9aabd-a4af-42ce-abe6-af0446e3b849",
   "metadata": {},
   "outputs": [
    {
     "name": "stdout",
     "output_type": "stream",
     "text": [
      "1/1 [==============================] - 0s 21ms/step\n"
     ]
    },
    {
     "data": {
      "text/plain": [
       "[1]"
      ]
     },
     "execution_count": 16,
     "metadata": {},
     "output_type": "execute_result"
    }
   ],
   "source": [
    "# testing the model\n",
    "convert_to_binary(sarcasm_model.predict(test_string_padded))"
   ]
  }
 ],
 "metadata": {
  "kernelspec": {
   "display_name": "Python 3 (ipykernel)",
   "language": "python",
   "name": "python3"
  },
  "language_info": {
   "codemirror_mode": {
    "name": "ipython",
    "version": 3
   },
   "file_extension": ".py",
   "mimetype": "text/x-python",
   "name": "python",
   "nbconvert_exporter": "python",
   "pygments_lexer": "ipython3",
   "version": "3.10.13"
  }
 },
 "nbformat": 4,
 "nbformat_minor": 5
}
